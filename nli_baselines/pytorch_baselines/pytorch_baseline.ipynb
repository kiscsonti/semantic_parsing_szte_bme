{
 "cells": [
  {
   "cell_type": "code",
   "execution_count": null,
   "metadata": {
    "collapsed": true
   },
   "outputs": [],
   "source": [
    "import json\n",
    "from lstm_baseline import LSTMBaseline\n",
    "import torch"
   ]
  },
  {
   "cell_type": "heading",
   "metadata": {},
   "level": 3,
   "source": [
    "Parse the sentences from the jsonl file than split into a training set and a test set"
   ]
  },
  {
   "cell_type": "code",
   "execution_count": null,
   "metadata": {},
   "outputs": [],
   "source": [
    "sentence_data = []\n",
    "with open('multinli_1.0_train.jsonl', 'r') as jsonl:\n",
    "    line = jsonl.readline()\n",
    "    while line is not None and line != \"\":\n",
    "        json_line = json.loads(line)\n",
    "        sentence_data.append((json_line['sentence1'].strip().split(), json_line['sentence2'].split(),\n",
    "                              json_line['gold_label']))\n",
    "        line = jsonl.readline()"
   ]
  },
  {
   "cell_type": "code",
   "execution_count": null,
   "metadata": {},
   "outputs": [],
   "source": [
    "training_data = sentence_data[:int(len(sentence_data) / 2)]\n",
    "test_data = sentence_data[int(len(sentence_data) / 2):]"
   ]
  },
  {
   "cell_type": "heading",
   "metadata": {},
   "level": 3,
   "source": [
    "For each word in the sentences make a lookup table that pairs it up with its first occurence"
   ]
  },
  {
   "cell_type": "code",
   "execution_count": null,
   "metadata": {},
   "outputs": [],
   "source": [
    "word_to_ix = {}\n",
    "for sent1, sent2, tag in sentence_data:\n",
    "    for word in sent1:\n",
    "        if word not in word_to_ix:\n",
    "            word_to_ix[word] = len(word_to_ix)\n",
    "    for word in sent2:\n",
    "        if word not in word_to_ix:\n",
    "            word_to_ix[word] = len(word_to_ix)\n",
    "tag_to_ix = {\"entailment\": 0, \"neutral\": 1, \"contradiction\": 2}"
   ]
  },
  {
   "cell_type": "code",
   "execution_count": null,
   "metadata": {},
   "outputs": [],
   "source": [
    "def test(model):\n",
    "    classes = [\"entailment\", \"neutral\", \"contradiction\"]\n",
    "    class_tp = list(0 for _ in range(3))\n",
    "    class_fp = list(0 for _ in range(3))\n",
    "    class_fn = list(0 for _ in range(3))\n",
    "    for sentence_hypothesis, sentence_premise, tag in test_data:\n",
    "        sentence_h = model.prepare_sequence(sentence_hypothesis, word_to_ix)\n",
    "        sentence_p = model.prepare_sequence(sentence_premise, word_to_ix)\n",
    "        tag = tag_to_ix[tag]\n",
    "        output = model(sentence_h, sentence_p).data\n",
    "        predicted = int((output == torch.max(output)).nonzero()[0])\n",
    "        if predicted == tag:\n",
    "            class_tp[tag] += 1\n",
    "        else:\n",
    "            class_fn[tag] += 1\n",
    "            class_fp[predicted] += 1\n",
    "    for i in range(3):\n",
    "        prec = class_tp[i] / (class_tp[i] + class_fp[i])\n",
    "        rec = class_tp[i] / (class_tp[i] + class_fn[i])\n",
    "        print('F1 score of {0} : {1}, precision: {2}, recall: {3}'.format(classes[i], 2 / ((1/prec) + (1/rec)), prec, rec))"
   ]
  },
  {
   "cell_type": "heading",
   "metadata": {},
   "level": 3,
   "source": [
    "Create a LSTMBaseline network"
   ]
  },
  {
   "cell_type": "code",
   "execution_count": null,
   "metadata": {},
   "outputs": [],
   "source": [
    "lstm = LSTMBaseline(len(word_to_ix), 64, 32, len(tag_to_ix))"
   ]
  },
  {
   "cell_type": "code",
   "execution_count": null,
   "metadata": {},
   "outputs": [],
   "source": [
    "print(\"Scores before training\")\n",
    "test(lstm)"
   ]
  },
  {
   "cell_type": "code",
   "execution_count": null,
   "metadata": {},
   "outputs": [],
   "source": [
    "lstm.back_propagation(100, training_data, word_to_ix, tag_to_ix)"
   ]
  },
  {
   "cell_type": "code",
   "execution_count": null,
   "metadata": {},
   "outputs": [],
   "source": [
    "print(\"Scores after training\")\n",
    "test(lstm)"
   ]
  }
 ],
 "metadata": {
  "kernelspec": {
   "display_name": "Python 2",
   "language": "python",
   "name": "python2"
  },
  "language_info": {
   "codemirror_mode": {
    "name": "ipython",
    "version": 2
   },
   "file_extension": ".py",
   "mimetype": "text/x-python",
   "name": "python",
   "nbconvert_exporter": "python",
   "pygments_lexer": "ipython2",
   "version": "2.7.6"
  }
 },
 "nbformat": 4,
 "nbformat_minor": 0
}
